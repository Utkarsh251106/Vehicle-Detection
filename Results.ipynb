{
 "cells": [
  {
   "cell_type": "code",
   "execution_count": 3,
   "id": "3ff00bd1-bad9-4ff9-a643-2ffd23e8c573",
   "metadata": {},
   "outputs": [],
   "source": [
    "import tensorflow as tf\n",
    "from tensorflow.keras.preprocessing.image import ImageDataGenerator\n",
    "import numpy as np\n",
    "from sklearn.metrics import classification_report, accuracy_score, precision_score, recall_score, f1_score\n",
    "import json"
   ]
  },
  {
   "cell_type": "code",
   "execution_count": 6,
   "id": "bbe4572a-b253-4e4a-8e0e-8e35b3f05e8f",
   "metadata": {},
   "outputs": [
    {
     "name": "stdout",
     "output_type": "stream",
     "text": [
      "Found 99 images belonging to 12 classes.\n"
     ]
    },
    {
     "name": "stderr",
     "output_type": "stream",
     "text": [
      "WARNING:absl:Compiled the loaded model, but the compiled metrics have yet to be built. `model.compile_metrics` will be empty until you train or evaluate the model.\n",
      "C:\\Users\\Hp\\AppData\\Roaming\\Python\\Python312\\site-packages\\keras\\src\\trainers\\data_adapters\\py_dataset_adapter.py:121: UserWarning: Your `PyDataset` class should call `super().__init__(**kwargs)` in its constructor. `**kwargs` can include `workers`, `use_multiprocessing`, `max_queue_size`. Do not pass these arguments to `fit()`, as they will be ignored.\n",
      "  self._warn_if_super_not_called()\n"
     ]
    },
    {
     "name": "stdout",
     "output_type": "stream",
     "text": [
      "\u001b[1m7/7\u001b[0m \u001b[32m━━━━━━━━━━━━━━━━━━━━\u001b[0m\u001b[37m\u001b[0m \u001b[1m1s\u001b[0m 90ms/step\n",
      "Test results saved to test_results.json\n",
      "Classification Report:\n",
      "                precision    recall  f1-score   support\n",
      "\n",
      "auto_rickshaw       0.88      0.64      0.74        11\n",
      "      bicycle       0.70      0.70      0.70        10\n",
      "          bus       0.43      0.30      0.35        10\n",
      "          car       0.83      0.56      0.67         9\n",
      "   e-rickshaw       0.43      1.00      0.60         6\n",
      "     mini-bus       0.50      1.00      0.67         1\n",
      "   mini-truck       0.38      0.60      0.46        10\n",
      "   motorcycle       0.54      0.70      0.61        10\n",
      "     rickshaw       0.67      0.40      0.50        10\n",
      "      tractor       0.67      1.00      0.80         2\n",
      "        truck       0.50      0.30      0.38        10\n",
      "          van       0.88      0.70      0.78        10\n",
      "\n",
      "     accuracy                           0.59        99\n",
      "    macro avg       0.62      0.66      0.60        99\n",
      " weighted avg       0.63      0.59      0.58        99\n",
      "\n"
     ]
    }
   ],
   "source": [
    "# Define dataset paths (Update these paths accordingly)\n",
    "test_dir = \"vehicle_dataset/test/\"\n",
    "\n",
    "# Define ImageDataGenerator for test set\n",
    "test_datagen = ImageDataGenerator(rescale=1./255)\n",
    "\n",
    "# Load test dataset\n",
    "test_data = test_datagen.flow_from_directory(test_dir, \n",
    "                                             target_size=(224, 224), \n",
    "                                             batch_size=16, \n",
    "                                             class_mode='categorical', \n",
    "                                             shuffle=False)\n",
    "\n",
    "# Load the trained model\n",
    "model = tf.keras.models.load_model(\"vehicle_classifier.h5\")\n",
    "\n",
    "# Make predictions\n",
    "predictions = model.predict(test_data)\n",
    "predicted_classes = np.argmax(predictions, axis=1)\n",
    "true_classes = test_data.classes\n",
    "class_labels = list(test_data.class_indices.keys())\n",
    "\n",
    "# Compute performance metrics\n",
    "accuracy = accuracy_score(true_classes, predicted_classes)\n",
    "precision = precision_score(true_classes, predicted_classes, average='weighted')\n",
    "recall = recall_score(true_classes, predicted_classes, average='weighted')\n",
    "f1 = f1_score(true_classes, predicted_classes, average='weighted')\n",
    "\n",
    "# Save results to a JSON file\n",
    "results = {\n",
    "    \"accuracy\": accuracy,\n",
    "    \"precision\": precision,\n",
    "    \"recall\": recall,\n",
    "    \"f1_score\": f1,\n",
    "    \"class_labels\": class_labels\n",
    "}\n",
    "\n",
    "with open(\"test_results.json\", \"w\") as f:\n",
    "    json.dump(results, f, indent=4)\n",
    "\n",
    "print(\"Test results saved to test_results.json\")\n",
    "\n",
    "# Print classification report\n",
    "print(\"Classification Report:\\n\", classification_report(true_classes, predicted_classes, target_names=class_labels))"
   ]
  }
 ],
 "metadata": {
  "kernelspec": {
   "display_name": "Python 3 (ipykernel)",
   "language": "python",
   "name": "python3"
  },
  "language_info": {
   "codemirror_mode": {
    "name": "ipython",
    "version": 3
   },
   "file_extension": ".py",
   "mimetype": "text/x-python",
   "name": "python",
   "nbconvert_exporter": "python",
   "pygments_lexer": "ipython3",
   "version": "3.12.7"
  }
 },
 "nbformat": 4,
 "nbformat_minor": 5
}
